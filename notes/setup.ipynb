{
 "cells": [
  {
   "cell_type": "code",
   "execution_count": 4,
   "id": "3fea8c0e-f1b6-42f1-9d38-7dd6976247a0",
   "metadata": {},
   "outputs": [
    {
     "name": "stdout",
     "output_type": "stream",
     "text": [
      "\u001b[1;31mERROR:\u001b[0m (gcloud.iam.service-accounts.create) Resource in projects [datauki-demo-airline] is the subject of a conflict: Service account vertex-pipelines-sa already exists within project projects/datauki-demo-airline.\n",
      "- '@type': type.googleapis.com/google.rpc.ResourceInfo\n",
      "  resourceName: projects/datauki-demo-airline/serviceAccounts/vertex-pipelines-sa@datauki-demo-airline.iam.gserviceaccount.com\n"
     ]
    }
   ],
   "source": [
    "!gcloud iam service-accounts create vertex-pipelines-sa \\\n",
    "    --description=\"sa to run pipelines\" \\\n",
    "    --display-name=\"vertex-pipelines-sa\" \\\n",
    "    --project=datauki-demo-airline"
   ]
  },
  {
   "cell_type": "code",
   "execution_count": 5,
   "id": "ca7c3490-9415-4d8d-b9fe-39e6e7dfcb78",
   "metadata": {},
   "outputs": [
    {
     "name": "stdout",
     "output_type": "stream",
     "text": [
      "\u001b[1;31mERROR:\u001b[0m (gcloud.projects.add-iam-policy-binding) User [981179984528-compute@developer.gserviceaccount.com] does not have permission to access projects instance [datauki-demo-airline:setIamPolicy] (or it may not exist): Policy update access denied.\n"
     ]
    }
   ],
   "source": [
    "!gcloud projects add-iam-policy-binding datauki-demo-airline \\\n",
    "    --member=\"serviceAccount:vertex-pipelines-sa@datauki-demo-airline.iam.gserviceaccount.com\" \\\n",
    "    --role=\"roles/aiplatform.user\""
   ]
  },
  {
   "cell_type": "code",
   "execution_count": 6,
   "id": "68c37852-ac42-4076-9386-7d27043bc6c3",
   "metadata": {},
   "outputs": [
    {
     "name": "stdout",
     "output_type": "stream",
     "text": [
      "\u001b[1;31mERROR:\u001b[0m (gcloud.projects.add-iam-policy-binding) User [981179984528-compute@developer.gserviceaccount.com] does not have permission to access projects instance [datauki-demo-airline:setIamPolicy] (or it may not exist): Policy update access denied.\n"
     ]
    }
   ],
   "source": [
    "# Create GCS objects\n",
    "!gcloud projects add-iam-policy-binding datauki-demo-airline \\\n",
    "    --member=\"serviceAccount:vertex-pipelines-sa@datauki-demo-airline.iam.gserviceaccount.com\" \\\n",
    "    --role=\"roles/storage.objectAdmin\""
   ]
  },
  {
   "cell_type": "code",
   "execution_count": null,
   "id": "cc9bdf0c-aba0-4ef9-ab82-22d3671ec277",
   "metadata": {},
   "outputs": [],
   "source": [
    "# run BQ export Jobs\n",
    "!gcloud projects add-iam-policy-binding datauki-demo-airline \\\n",
    "    --member=\"serviceAccount:vertex-pipelines-sa@datauki-demo-airline.iam.gserviceaccount.com\" \\\n",
    "    --role=\"roles/bigquery.jobUser\"\n",
    "\n",
    "!gcloud projects add-iam-policy-binding datauki-demo-airline \\\n",
    "    --member=\"serviceAccount:vertex-pipelines-sa@datauki-demo-airline.iam.gserviceaccount.com\" \\\n",
    "    --role=\"roles/bigquery.dataEditor\"\n",
    "    "
   ]
  }
 ],
 "metadata": {
  "environment": {
   "kernel": "python3",
   "name": "common-cpu.m87",
   "type": "gcloud",
   "uri": "gcr.io/deeplearning-platform-release/base-cpu:m87"
  },
  "kernelspec": {
   "display_name": "Python 3",
   "language": "python",
   "name": "python3"
  },
  "language_info": {
   "codemirror_mode": {
    "name": "ipython",
    "version": 3
   },
   "file_extension": ".py",
   "mimetype": "text/x-python",
   "name": "python",
   "nbconvert_exporter": "python",
   "pygments_lexer": "ipython3",
   "version": "3.7.12"
  }
 },
 "nbformat": 4,
 "nbformat_minor": 5
}
