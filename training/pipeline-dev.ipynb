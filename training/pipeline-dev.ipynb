{
 "cells": [
  {
   "cell_type": "code",
   "execution_count": 1,
   "id": "05da54a1-1f6e-484a-a94d-6b97db3e61e2",
   "metadata": {},
   "outputs": [],
   "source": [
    "from pipelines.training_pipeline import compile_pipeline, run_pipeline"
   ]
  },
  {
   "cell_type": "code",
   "execution_count": 3,
   "id": "10b8f422-731c-4496-8214-fe9ba909f6f6",
   "metadata": {},
   "outputs": [],
   "source": [
    "from datetime import datetime"
   ]
  },
  {
   "cell_type": "code",
   "execution_count": 4,
   "id": "40222611-3676-4ae2-a011-7d8748179d56",
   "metadata": {},
   "outputs": [],
   "source": [
    "sign=datetime.now().strftime(\"%d%m%Y%H%M%S\")\n",
    "\n",
    "BUCKET=\"_BUCKET_NAME_HERE_\"\n",
    "PROJECT_ID=\"_PROJECT_ID_HERE_\" \n",
    "bq_uri= \"PROJECT.DATASET.TABLE\"\n",
    "\n",
    "pipeline_name=\"pipeline-name\"\n",
    "\n",
    "run_name=\"demo-run-\"+sign\n",
    "pl_root=\"gs://{}/pipeline\".format(PROJECT_ID)\n",
    "pl_path=\"training-pipeline.json\"\n",
    "\n",
    "location=\"europe-west4\"\n",
    "bq_uri= \"PROJECT.DATASET.TABLE\"\n",
    "pipeline_params={\"project_id\": PROJECT_ID, \"bq_uri\": bq_uri, \"label\": \"label\", \"assets_prefix\": \"artf-\"+sign, \"location\": location }\n",
    "service_account=\"vertex-pipelines-sa@{}.iam.gserviceaccount.com\".format(PROJECT_ID)\n",
    "\n",
    "compile_pipeline(pl_path)\n",
    "run_pipeline(pipeline_name, run_name, project_id, pl_root, pl_path, location, pipeline_params, service_account, enable_caching=True)"
   ]
  }
 ],
 "metadata": {
  "environment": {
   "kernel": "python3",
   "name": "common-cpu.m87",
   "type": "gcloud",
   "uri": "gcr.io/deeplearning-platform-release/base-cpu:m87"
  },
  "kernelspec": {
   "display_name": "Python 3",
   "language": "python",
   "name": "python3"
  },
  "language_info": {
   "codemirror_mode": {
    "name": "ipython",
    "version": 3
   },
   "file_extension": ".py",
   "mimetype": "text/x-python",
   "name": "python",
   "nbconvert_exporter": "python",
   "pygments_lexer": "ipython3",
   "version": "3.7.12"
  }
 },
 "nbformat": 4,
 "nbformat_minor": 5
}
