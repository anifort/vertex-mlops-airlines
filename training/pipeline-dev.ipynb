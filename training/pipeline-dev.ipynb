{
 "cells": [
  {
   "cell_type": "code",
   "execution_count": 1,
   "id": "05da54a1-1f6e-484a-a94d-6b97db3e61e2",
   "metadata": {},
   "outputs": [],
   "source": [
    "from pipelines.training_pipeline import compile_pipeline, run_pipeline"
   ]
  },
  {
   "cell_type": "code",
   "execution_count": 2,
   "id": "6ab09e13-9037-476a-92f9-1967a929d7b4",
   "metadata": {},
   "outputs": [
    {
     "name": "stderr",
     "output_type": "stream",
     "text": [
      "/opt/conda/lib/python3.7/site-packages/kfp/v2/compiler/compiler.py:1266: FutureWarning: APIs imported from the v1 namespace (e.g. kfp.dsl, kfp.components, etc) will not be supported by the v2 compiler since v2.0.0\n",
      "  category=FutureWarning,\n"
     ]
    }
   ],
   "source": [
    "compile_pipeline('training-pipeline.json')"
   ]
  },
  {
   "cell_type": "code",
   "execution_count": 3,
   "id": "10b8f422-731c-4496-8214-fe9ba909f6f6",
   "metadata": {},
   "outputs": [],
   "source": [
    "from datetime import datetime"
   ]
  },
  {
   "cell_type": "code",
   "execution_count": 4,
   "id": "40222611-3676-4ae2-a011-7d8748179d56",
   "metadata": {},
   "outputs": [],
   "source": [
    "sign=datetime.now().strftime(\"%d%m%Y%H%M%S\")\n",
    "\n",
    "pipeline_name=\"airline-propensity\"\n",
    "run_name=\"demo-run-\"+sign\n",
    "project_id=\"datauki-demo-airline\" \n",
    "pl_root=\"gs://propensity_model/pipeline\"\n",
    "pl_path=\"training-pipeline.json\"\n",
    "location=\"europe-west4\"\n",
    "pipeline_params={\"project_id\": project_id, \"bq_uri\": \"{}.{}.{}\".format(project_id,\"propensity_model\",\"propensity_airline_data\"), \"assets_prefix\": \"prop-\"+sign, \"location\": location }\n",
    "#service_account=\"pipelines-cloud-build@datauki-demo-airline.iam.gserviceaccount.com\"\n",
    "service_account=\"vertex-pipelines-sa@datauki-demo-airline.iam.gserviceaccount.com\""
   ]
  },
  {
   "cell_type": "code",
   "execution_count": 5,
   "id": "71d36a6e-e386-436f-ba6b-54cbd6bff14f",
   "metadata": {},
   "outputs": [
    {
     "name": "stdout",
     "output_type": "stream",
     "text": [
      "INFO:google.cloud.aiplatform.pipeline_jobs:Creating PipelineJob\n",
      "INFO:google.cloud.aiplatform.pipeline_jobs:PipelineJob created. Resource name: projects/981179984528/locations/europe-west4/pipelineJobs/demo-run-21012022110633\n",
      "INFO:google.cloud.aiplatform.pipeline_jobs:To use this PipelineJob in another session:\n",
      "INFO:google.cloud.aiplatform.pipeline_jobs:pipeline_job = aiplatform.PipelineJob.get('projects/981179984528/locations/europe-west4/pipelineJobs/demo-run-21012022110633')\n",
      "INFO:google.cloud.aiplatform.pipeline_jobs:View Pipeline Job:\n",
      "https://console.cloud.google.com/vertex-ai/locations/europe-west4/pipelines/runs/demo-run-21012022110633?project=981179984528\n",
      "INFO:google.cloud.aiplatform.pipeline_jobs:PipelineJob projects/981179984528/locations/europe-west4/pipelineJobs/demo-run-21012022110633 current state:\n",
      "PipelineState.PIPELINE_STATE_RUNNING\n",
      "INFO:google.cloud.aiplatform.pipeline_jobs:PipelineJob projects/981179984528/locations/europe-west4/pipelineJobs/demo-run-21012022110633 current state:\n",
      "PipelineState.PIPELINE_STATE_RUNNING\n",
      "INFO:google.cloud.aiplatform.pipeline_jobs:PipelineJob projects/981179984528/locations/europe-west4/pipelineJobs/demo-run-21012022110633 current state:\n",
      "PipelineState.PIPELINE_STATE_RUNNING\n",
      "INFO:google.cloud.aiplatform.pipeline_jobs:PipelineJob projects/981179984528/locations/europe-west4/pipelineJobs/demo-run-21012022110633 current state:\n",
      "PipelineState.PIPELINE_STATE_RUNNING\n",
      "INFO:google.cloud.aiplatform.pipeline_jobs:PipelineJob projects/981179984528/locations/europe-west4/pipelineJobs/demo-run-21012022110633 current state:\n",
      "PipelineState.PIPELINE_STATE_RUNNING\n",
      "INFO:google.cloud.aiplatform.pipeline_jobs:PipelineJob projects/981179984528/locations/europe-west4/pipelineJobs/demo-run-21012022110633 current state:\n",
      "PipelineState.PIPELINE_STATE_RUNNING\n",
      "INFO:google.cloud.aiplatform.pipeline_jobs:PipelineJob projects/981179984528/locations/europe-west4/pipelineJobs/demo-run-21012022110633 current state:\n",
      "PipelineState.PIPELINE_STATE_RUNNING\n",
      "INFO:google.cloud.aiplatform.pipeline_jobs:PipelineJob run completed. Resource name: projects/981179984528/locations/europe-west4/pipelineJobs/demo-run-21012022110633\n"
     ]
    }
   ],
   "source": [
    "run_pipeline(pipeline_name, run_name, project_id, pl_root, pl_path, location, pipeline_params, service_account, enable_caching=True)"
   ]
  },
  {
   "cell_type": "code",
   "execution_count": null,
   "id": "cd40affd-5e85-43c8-8456-15d004c68134",
   "metadata": {},
   "outputs": [],
   "source": [
    "\n",
    "pipeline_export_path = \"gs://propensity_model/pipeline/tests\"\n",
    "data_uri = pipeline_export_path+\"/bq_export/exported_dataset\"\n",
    "\n",
    "\n",
    "\n",
    "import dask.dataframe as dd\n",
    "df = dd.read_csv(data_uri+'/*.csv').compute()"
   ]
  },
  {
   "cell_type": "code",
   "execution_count": 2,
   "id": "cfc0e031-4ff8-4ef4-94c7-ed4e631d4240",
   "metadata": {},
   "outputs": [],
   "source": [
    "from kfp.v2 import components\n",
    "\n",
    "from kfp.v2.dsl import Artifact, Dataset, Model, Output, HTML"
   ]
  },
  {
   "cell_type": "code",
   "execution_count": 4,
   "id": "38914629-1885-42e4-9359-3d18f6fd39de",
   "metadata": {},
   "outputs": [],
   "source": [
    "\n",
    "from kfp.components import load_component_from_url"
   ]
  },
  {
   "cell_type": "code",
   "execution_count": null,
   "id": "d9ec84b1-141b-482b-b8de-a278c6903002",
   "metadata": {},
   "outputs": [],
   "source": [
    "t = HTML(uri=\"gs://test\")\n",
    "t.uri\n",
    "t.path = \"gs://x/w\"\n",
    "t.path"
   ]
  },
  {
   "cell_type": "code",
   "execution_count": null,
   "id": "e6421ee7-f6c5-498a-8ca9-e396f20d5b47",
   "metadata": {},
   "outputs": [],
   "source": [
    "kfp.v2.components.component_factory.create_component_from_func"
   ]
  },
  {
   "cell_type": "code",
   "execution_count": null,
   "id": "a24ba322-c801-4f8d-ad47-fbaa88f9fe64",
   "metadata": {},
   "outputs": [],
   "source": [
    "import tensorflow_data_validation as tfdv\n",
    "type(tfdv.load_statistics(\"tests/artifacts/stats_artifact/af.proto\").datasets[0].num_examples)"
   ]
  },
  {
   "cell_type": "code",
   "execution_count": null,
   "id": "f3d1995c-2fd4-40eb-829e-604bc7519cb2",
   "metadata": {},
   "outputs": [],
   "source": [
    " pip install tensorflow_data_validation==1.5.0 --user"
   ]
  },
  {
   "cell_type": "code",
   "execution_count": null,
   "id": "d1fbcb0f-5c17-4809-a848-21801747b97a",
   "metadata": {},
   "outputs": [],
   "source": [
    "from functools import wraps\n",
    "\n",
    "def mydeco(func):\n",
    "    @wraps(func)\n",
    "    def wrapper(*args, **kwargs):\n",
    "        return f'{func(*args, **kwargs)}!!!'\n",
    "    return wrapper"
   ]
  },
  {
   "cell_type": "code",
   "execution_count": null,
   "id": "c60d607f-d59d-4e0b-b154-2c368c2ad0c3",
   "metadata": {},
   "outputs": [],
   "source": [
    "@mydeco\n",
    "def add(a, b):\n",
    "    '''Add two objects together, the long way'''\n",
    "    return a + b"
   ]
  },
  {
   "cell_type": "code",
   "execution_count": null,
   "id": "6f17ccfa-7bfb-496a-ba95-cdaf6b1105d6",
   "metadata": {},
   "outputs": [],
   "source": [
    "add.__wrapped__(1,2)"
   ]
  },
  {
   "cell_type": "code",
   "execution_count": null,
   "id": "e5c95666-6a2e-4ce0-991b-b2afc563641f",
   "metadata": {},
   "outputs": [],
   "source": [
    "import kfp\n",
    "@kfp.v2.dsl.component(\n",
    "    packages_to_install=['tensorflow-data-validation==1.5.0']\n",
    ")\n",
    "def gen_stats(a: str):\n",
    "    print(a)"
   ]
  },
  {
   "cell_type": "code",
   "execution_count": 10,
   "id": "59f5fa50-bfd6-4a32-94b9-111c89306c44",
   "metadata": {},
   "outputs": [],
   "source": [
    "bq_project_id, bq_dataset_id, bq_table_id = \";.l.l\".split(\".\")"
   ]
  },
  {
   "cell_type": "code",
   "execution_count": null,
   "id": "6bf24023-77d7-4225-beb8-ca73b8a33a10",
   "metadata": {},
   "outputs": [],
   "source": [
    "bq_table_id"
   ]
  },
  {
   "cell_type": "code",
   "execution_count": null,
   "id": "c88a8e1e-8e0f-40b8-bb5e-ec71c12cc5d5",
   "metadata": {},
   "outputs": [],
   "source": [
    "import numpy as np \n",
    "import dask.dataframe as dd\n",
    "df = dd.read_csv(\"tests/test_data/test.csv\")\n",
    "df = df.compute()\n",
    "df"
   ]
  },
  {
   "cell_type": "code",
   "execution_count": 5,
   "id": "04b857d8-fe09-41ed-84f8-5218d26b7317",
   "metadata": {},
   "outputs": [],
   "source": [
    "from kfp.dsl.types import GCPProjectID\n",
    "p=GCPProjectID()\n",
    "p.openapi_schema_validator"
   ]
  },
  {
   "cell_type": "code",
   "execution_count": null,
   "id": "eddea5e2-85f1-4ab6-99e0-5da2ab79a30a",
   "metadata": {},
   "outputs": [],
   "source": [
    "dict_types = df.dtypes.to_dict()\n",
    "CATEGORICAL_FEATURES = []\n",
    "BINARY_FEATURES = []\n",
    "NUMERIC_FEATURES = []\n",
    "for k,v in dict_types.items():\n",
    "    if v==np.object_:\n",
    "        CATEGORICAL_FEATURES.append(k)\n",
    "    elif v==np.bool_:\n",
    "        BINARY_FEATURES.append(k)\n",
    "    else:\n",
    "        NUMERIC_FEATURES.append(k)\n",
    "        \n",
    "BINARY_FEATURES"
   ]
  },
  {
   "cell_type": "code",
   "execution_count": null,
   "id": "29107be9-66d5-42c6-b883-da6ea7b5f8c2",
   "metadata": {},
   "outputs": [],
   "source": [
    "df.insert(0, 'New_ID', range(0, 0 + len(df)))"
   ]
  },
  {
   "cell_type": "code",
   "execution_count": null,
   "id": "1f9a855c-502b-4e17-9289-e550ea8c8a75",
   "metadata": {},
   "outputs": [],
   "source": [
    "type(df_selected)"
   ]
  },
  {
   "cell_type": "code",
   "execution_count": null,
   "id": "e0788d71-189b-4080-bb73-b001e1e95a6d",
   "metadata": {},
   "outputs": [],
   "source": [
    "df.head().set_index(\"x\")"
   ]
  },
  {
   "cell_type": "code",
   "execution_count": null,
   "id": "0beb0aa7-b442-4dde-9a4c-47b4d324eb2b",
   "metadata": {},
   "outputs": [],
   "source": [
    " df = df.compute()"
   ]
  },
  {
   "cell_type": "code",
   "execution_count": null,
   "id": "2b353396-1ef1-45bf-ac06-6a22fc17f3e0",
   "metadata": {},
   "outputs": [],
   "source": [
    "type(df)"
   ]
  },
  {
   "cell_type": "code",
   "execution_count": null,
   "id": "fb27baaf-db8f-4dad-a6f5-fff366258c8d",
   "metadata": {},
   "outputs": [],
   "source": [
    "df.iloc[perm[:train_end]]"
   ]
  },
  {
   "cell_type": "code",
   "execution_count": null,
   "id": "eed769a5-2ca4-4585-94fd-170d585bc7a8",
   "metadata": {},
   "outputs": [],
   "source": [
    "import kfp.v2.dsl as dsl"
   ]
  },
  {
   "cell_type": "code",
   "execution_count": 2,
   "id": "3381b6d4-a47e-42ef-aa4a-8f6178c66f6e",
   "metadata": {},
   "outputs": [],
   "source": [
    "\n",
    "from google_cloud_pipeline_components import aiplatform as gcc_aip"
   ]
  },
  {
   "cell_type": "code",
   "execution_count": 13,
   "id": "2ad6d422-8c7b-47c9-abe0-525b94577ee8",
   "metadata": {},
   "outputs": [
    {
     "data": {
      "text/plain": [
       "'/home/jupyter/airlines-mlops/training'"
      ]
     },
     "execution_count": 13,
     "metadata": {},
     "output_type": "execute_result"
    }
   ],
   "source": [
    "pwd"
   ]
  },
  {
   "cell_type": "code",
   "execution_count": 2,
   "id": "04b06947-213e-4d68-986c-c49754c708c0",
   "metadata": {},
   "outputs": [],
   "source": [
    "import pickle\n",
    "with open('tests/artifacts/model.pkl', 'rb') as handle:\n",
    "    clf = pickle.load(handle)"
   ]
  },
  {
   "cell_type": "code",
   "execution_count": 4,
   "id": "6514ac35-b62f-443a-862a-b07ec6f23d53",
   "metadata": {},
   "outputs": [
    {
     "data": {
      "text/plain": [
       "array([False])"
      ]
     },
     "execution_count": 4,
     "metadata": {},
     "output_type": "execute_result"
    }
   ],
   "source": [
    "clf.predict([[\"1024-GUALD\",\"Female\", 0, True, False,1,False,False,\"silver\",False,False,False,False,False,False,\"high\",True,\"debit card\",24,24]])"
   ]
  },
  {
   "cell_type": "code",
   "execution_count": null,
   "id": "a495d43c-7519-4ea3-a0b1-fb04960efc08",
   "metadata": {},
   "outputs": [],
   "source": [
    "{\n",
    "\t\"instances\": [\n",
    "\t\t[\"1024-GUALD\", \"Female\", 0, true, false, 1, false, false, \"silver\", false, false, false, false, false, false, \"high\", true, \"debit card\", 24, 24]\n",
    "\t]\n",
    "}"
   ]
  },
  {
   "cell_type": "code",
   "execution_count": 6,
   "id": "fd420d1d-e274-430e-9e7f-7b219cda63af",
   "metadata": {},
   "outputs": [],
   "source": [
    "with open('requirements.txt') as f:\n",
    "    required = f.read().splitlines()"
   ]
  },
  {
   "cell_type": "code",
   "execution_count": 7,
   "id": "a9c78cf9-a43a-4ba3-ab27-96aa4047f7e4",
   "metadata": {},
   "outputs": [
    {
     "data": {
      "text/plain": [
       "['kfp==1.8.9 ',\n",
       " 'google-cloud-pipeline-components==0.2.0',\n",
       " 'dask[dataframe]==2021.12.0',\n",
       " 'tensorflow-data-validation==1.5.0',\n",
       " 'apache-beam==2.35.0',\n",
       " 'pytest==6.2.5',\n",
       " 'pytest-mock==3.6.1',\n",
       " 'pytest-cov==3.0.0',\n",
       " 'google-cloud-bigquery==2.24.1',\n",
       " 'tensorflow-data-validation==1.5.0',\n",
       " 'apache-beam==2.35.0',\n",
       " 'gcsfs==2021.11.1',\n",
       " 'scikit-learn==0.24.0',\n",
       " 'pandas==1.3.5',\n",
       " 'numpy==1.19.5',\n",
       " 'fsspec==2021.11.1',\n",
       " 'gcsfs==2021.11.1']"
      ]
     },
     "execution_count": 7,
     "metadata": {},
     "output_type": "execute_result"
    }
   ],
   "source": [
    "required"
   ]
  },
  {
   "cell_type": "code",
   "execution_count": null,
   "id": "1cb92445-4e87-4357-882b-b83f8ad84aae",
   "metadata": {},
   "outputs": [],
   "source": []
  }
 ],
 "metadata": {
  "environment": {
   "kernel": "python3",
   "name": "common-cpu.m87",
   "type": "gcloud",
   "uri": "gcr.io/deeplearning-platform-release/base-cpu:m87"
  },
  "kernelspec": {
   "display_name": "Python 3",
   "language": "python",
   "name": "python3"
  },
  "language_info": {
   "codemirror_mode": {
    "name": "ipython",
    "version": 3
   },
   "file_extension": ".py",
   "mimetype": "text/x-python",
   "name": "python",
   "nbconvert_exporter": "python",
   "pygments_lexer": "ipython3",
   "version": "3.7.12"
  }
 },
 "nbformat": 4,
 "nbformat_minor": 5
}
